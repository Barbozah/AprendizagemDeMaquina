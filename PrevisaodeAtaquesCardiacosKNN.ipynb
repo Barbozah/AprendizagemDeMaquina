{
  "nbformat": 4,
  "nbformat_minor": 0,
  "metadata": {
    "colab": {
      "name": "PrevisaodeAtaquesCardiacosKNN.ipynb",
      "provenance": [],
      "collapsed_sections": [],
      "include_colab_link": true
    },
    "language_info": {
      "codemirror_mode": {
        "name": "ipython",
        "version": 3
      },
      "file_extension": ".py",
      "mimetype": "text/x-python",
      "name": "python",
      "nbconvert_exporter": "python",
      "pygments_lexer": "ipython3",
      "version": "3.7.1"
    },
    "kernelspec": {
      "display_name": "Python 3",
      "language": "python",
      "name": "python3"
    }
  },
  "cells": [
    {
      "cell_type": "markdown",
      "metadata": {
        "id": "view-in-github",
        "colab_type": "text"
      },
      "source": [
        "<a href=\"https://colab.research.google.com/github/Barbozah/AprendizagemDeMaquina/blob/master/PrevisaodeAtaquesCardiacosKNN.ipynb\" target=\"_parent\"><img src=\"https://colab.research.google.com/assets/colab-badge.svg\" alt=\"Open In Colab\"/></a>"
      ]
    },
    {
      "cell_type": "markdown",
      "metadata": {
        "id": "MN2P2qqOHkON",
        "colab_type": "text"
      },
      "source": [
        "# Previsão de ataque cardíaco\n"
      ]
    },
    {
      "cell_type": "markdown",
      "metadata": {
        "id": "ubKTfcIFHkOT",
        "colab_type": "text"
      },
      "source": [
        "## Descrição da Base de dados\n"
      ]
    },
    {
      "cell_type": "markdown",
      "metadata": {
        "id": "NaRMW9_EHkOZ",
        "colab_type": "text"
      },
      "source": [
        "A base de dados contém cerca de 300 dados sobre pacientes do hospital da cidade de Cleveland do Estado de Ohio nos Estados Unidos.\n",
        "\n",
        "### Seus atributos são: \n",
        "1. id: número de identificação do paciente\n",
        "2. ccf: número da previdência social (substituído por um valor fictício de 0)\n",
        "3. age: idade em anos\n",
        "4. sex: sexo (1 = masculino; 0 = feminino)\n",
        "5. painloc: localização da dor no peito (1 = subesternal; 0 = caso contrário)\n",
        "6. painexer: (1 = provocado pelo esforço; 0 = caso contrário)\n",
        "7. relrest: (1 = aliviado após o descanso; 0 = caso contrário)\n",
        "8. pncaden: (soma de 5, 6 e 7)\n",
        "9. cp: tipo de dor no peito: (Valor 1: angina típica - Valor 2: angina atípica - Valor 3: dor não anginosa - Valor 4: assintomática)\n",
        "10. trestbps: pressão arterial em repouso (em mmHg na admissão ao hospital)\n",
        "11. htn\n",
        "12. col: soro colestoral em mg / dl\n",
        "13. smoke: eu acredito que isso é 1 = sim; 0 = não (é ou não é fumante)\n",
        "14. cigs: (cigarros por dia)\n",
        "15. years: (número de anos como fumante)\n",
        "16. fbs: (açúcar no sangue em jejum> 120 mg / dl) (1 = verdadeiro; 0 = falso)\n",
        "17. dm (1 = história de diabetes; 0 = sem tal história)\n",
        "18. famhist: história familiar de doença arterial coronariana (1 = sim; 0 = não)\n",
        "19. restecg: resultados eletrocardiográficos de repouso - Valor 0: normal - Valor 1: ter anormalidade da onda ST-T (inversões da onda T e / ou supradesnivelamento do segmento ST ou depressão> 0,05 mV) - Valor 2: mostrando provável ou definitivo ventrículo esquerdo hipertrofia pelo critério de Estes 20 ekgmo (mês de leitura do ECG de exercício) 21 ekgday (dia do exercício leitura do ECG) 22 ekgyr (ano de exercício leitura do ECG) 23 dig (digitalis usado exercício do exercício ECG: 1 = sim; 0 = não) 24 prop (betabloqueador utilizado durante o exercício ECG: 1 = sim; 0 = não) 25 nitr (nitratos utilizados durante o exercício ECG: 1 = sim; 0 = não) 26 pro (bloqueador dos canais de cálcio utilizado durante o exercício ECG: 1 = sim; = no) 27 diurético (diurético usado durante o exercício ECG: 1 = sim; 0 = não) 28 proto: protocolo de exercício\n",
        "\n",
        "\n",
        "\n",
        "### Criadores:\n",
        "1. Instituto Húngaro de Cardiologia. Budapeste: Andras Janosi, M.D.\n",
        "2. Hospital Universitário, Zurique, Suíça: William Steinbrunn, M.D.\n",
        "3. Hospital Universitário, Basel, Suíça: Matthias Pfisterer, M.D.\n",
        "4. V.A. Centro Médico, Long Beach e Cleveland Clinic Foundation: Robert Detrano, M.D., Ph.D."
      ]
    },
    {
      "cell_type": "markdown",
      "metadata": {
        "id": "gM5tDL0_HkOd",
        "colab_type": "text"
      },
      "source": [
        "## Objetivo do projeto"
      ]
    },
    {
      "cell_type": "markdown",
      "metadata": {
        "id": "_MFujWIBHkOg",
        "colab_type": "text"
      },
      "source": [
        "Prever o risco de ataque do cardíaco num novo paciente dado, com base nos dados já obtidos e essa previsão será com base num dado risco classificado de (0 a 4).\n",
        "O algoritmo de *machine learning* selecinado para este projeto foi o KNN, visto que temos pouco mais que 300 dados disponíveis e este algoritmo é ótimo para base de dados que contém poucos dados."
      ]
    },
    {
      "cell_type": "markdown",
      "metadata": {
        "id": "WaFm0ihjHkOj",
        "colab_type": "text"
      },
      "source": [
        "# Aplicação"
      ]
    },
    {
      "cell_type": "code",
      "metadata": {
        "id": "vy9Af-zIHkOl",
        "colab_type": "code",
        "colab": {}
      },
      "source": [
        "#importação de bibliotecas\n",
        "import pandas as pd\n",
        "import matplotlib.pyplot as plt\n",
        "from sklearn.neighbors import KNeighborsClassifier\n",
        "from sklearn.model_selection import train_test_split\n",
        "from sklearn import metrics"
      ],
      "execution_count": 0,
      "outputs": []
    },
    {
      "cell_type": "code",
      "metadata": {
        "id": "Ei5QCZ7wHkOx",
        "colab_type": "code",
        "outputId": "3d19b74c-c91c-430d-fbb9-dada592885b0",
        "colab": {
          "base_uri": "https://localhost:8080/",
          "height": 204
        }
      },
      "source": [
        "#Leitura dos dados\n",
        "!git clone https://github.com/Barbozah/AprendizagemDeMaquina.git\n",
        "base = pd.read_csv(\"AprendizagemDeMaquina/dados/heart.csv\")\n",
        "base.head()"
      ],
      "execution_count": 0,
      "outputs": [
        {
          "output_type": "execute_result",
          "data": {
            "text/html": [
              "<div>\n",
              "<style scoped>\n",
              "    .dataframe tbody tr th:only-of-type {\n",
              "        vertical-align: middle;\n",
              "    }\n",
              "\n",
              "    .dataframe tbody tr th {\n",
              "        vertical-align: top;\n",
              "    }\n",
              "\n",
              "    .dataframe thead th {\n",
              "        text-align: right;\n",
              "    }\n",
              "</style>\n",
              "<table border=\"1\" class=\"dataframe\">\n",
              "  <thead>\n",
              "    <tr style=\"text-align: right;\">\n",
              "      <th></th>\n",
              "      <th>age</th>\n",
              "      <th>sex</th>\n",
              "      <th>cp</th>\n",
              "      <th>trestbps</th>\n",
              "      <th>chol</th>\n",
              "      <th>fbs</th>\n",
              "      <th>restecg</th>\n",
              "      <th>thalach</th>\n",
              "      <th>exang</th>\n",
              "      <th>oldpeak</th>\n",
              "      <th>slope</th>\n",
              "      <th>ca</th>\n",
              "      <th>thal</th>\n",
              "      <th>target</th>\n",
              "    </tr>\n",
              "  </thead>\n",
              "  <tbody>\n",
              "    <tr>\n",
              "      <th>0</th>\n",
              "      <td>63</td>\n",
              "      <td>1</td>\n",
              "      <td>3</td>\n",
              "      <td>145</td>\n",
              "      <td>233</td>\n",
              "      <td>1</td>\n",
              "      <td>0</td>\n",
              "      <td>150</td>\n",
              "      <td>0</td>\n",
              "      <td>2.3</td>\n",
              "      <td>0</td>\n",
              "      <td>0</td>\n",
              "      <td>1</td>\n",
              "      <td>1</td>\n",
              "    </tr>\n",
              "    <tr>\n",
              "      <th>1</th>\n",
              "      <td>37</td>\n",
              "      <td>1</td>\n",
              "      <td>2</td>\n",
              "      <td>130</td>\n",
              "      <td>250</td>\n",
              "      <td>0</td>\n",
              "      <td>1</td>\n",
              "      <td>187</td>\n",
              "      <td>0</td>\n",
              "      <td>3.5</td>\n",
              "      <td>0</td>\n",
              "      <td>0</td>\n",
              "      <td>2</td>\n",
              "      <td>1</td>\n",
              "    </tr>\n",
              "    <tr>\n",
              "      <th>2</th>\n",
              "      <td>41</td>\n",
              "      <td>0</td>\n",
              "      <td>1</td>\n",
              "      <td>130</td>\n",
              "      <td>204</td>\n",
              "      <td>0</td>\n",
              "      <td>0</td>\n",
              "      <td>172</td>\n",
              "      <td>0</td>\n",
              "      <td>1.4</td>\n",
              "      <td>2</td>\n",
              "      <td>0</td>\n",
              "      <td>2</td>\n",
              "      <td>1</td>\n",
              "    </tr>\n",
              "    <tr>\n",
              "      <th>3</th>\n",
              "      <td>56</td>\n",
              "      <td>1</td>\n",
              "      <td>1</td>\n",
              "      <td>120</td>\n",
              "      <td>236</td>\n",
              "      <td>0</td>\n",
              "      <td>1</td>\n",
              "      <td>178</td>\n",
              "      <td>0</td>\n",
              "      <td>0.8</td>\n",
              "      <td>2</td>\n",
              "      <td>0</td>\n",
              "      <td>2</td>\n",
              "      <td>1</td>\n",
              "    </tr>\n",
              "    <tr>\n",
              "      <th>4</th>\n",
              "      <td>57</td>\n",
              "      <td>0</td>\n",
              "      <td>0</td>\n",
              "      <td>120</td>\n",
              "      <td>354</td>\n",
              "      <td>0</td>\n",
              "      <td>1</td>\n",
              "      <td>163</td>\n",
              "      <td>1</td>\n",
              "      <td>0.6</td>\n",
              "      <td>2</td>\n",
              "      <td>0</td>\n",
              "      <td>2</td>\n",
              "      <td>1</td>\n",
              "    </tr>\n",
              "  </tbody>\n",
              "</table>\n",
              "</div>"
            ],
            "text/plain": [
              "   age  sex  cp  trestbps  chol  fbs  ...  exang  oldpeak  slope  ca  thal  target\n",
              "0   63    1   3       145   233    1  ...      0      2.3      0   0     1       1\n",
              "1   37    1   2       130   250    0  ...      0      3.5      0   0     2       1\n",
              "2   41    0   1       130   204    0  ...      0      1.4      2   0     2       1\n",
              "3   56    1   1       120   236    0  ...      0      0.8      2   0     2       1\n",
              "4   57    0   0       120   354    0  ...      1      0.6      2   0     2       1\n",
              "\n",
              "[5 rows x 14 columns]"
            ]
          },
          "metadata": {
            "tags": []
          },
          "execution_count": 11
        }
      ]
    },
    {
      "cell_type": "code",
      "metadata": {
        "id": "r8PjBAfJHkPC",
        "colab_type": "code",
        "colab": {}
      },
      "source": [
        "#Validação cruzada, utilizando parametros de 1 a 50\n",
        "k_range = range(1, 50)\n",
        "scores = {}\n",
        "scores_list = []"
      ],
      "execution_count": 0,
      "outputs": []
    },
    {
      "cell_type": "code",
      "metadata": {
        "id": "oMRRyyGqHkPL",
        "colab_type": "code",
        "colab": {}
      },
      "source": [
        "#Separação dos dados dos rótulos\n",
        "X = base.loc[:,'age':'thal']\n",
        "y = base.loc[:,'target']\n",
        "#Divisão entre parte de treino e parte de teste, utilizando 5% para teste e 95% para treino\n",
        "X_train, X_test, y_train, y_test = train_test_split(X, y, test_size = 0.05, random_state = 4)"
      ],
      "execution_count": 0,
      "outputs": []
    },
    {
      "cell_type": "code",
      "metadata": {
        "id": "CoceeUaXHkPS",
        "colab_type": "code",
        "colab": {}
      },
      "source": [
        "#Realização da validação cruzada\n",
        "for k in k_range:\n",
        "    knn = KNeighborsClassifier(n_neighbors = k)\n",
        "    knn.fit(X_train, y_train)\n",
        "    y_pred = knn.predict(X_test)\n",
        "    scores[k] = metrics.accuracy_score(y_test, y_pred)\n",
        "    scores_list.append(metrics.accuracy_score(y_test, y_pred))"
      ],
      "execution_count": 0,
      "outputs": []
    },
    {
      "cell_type": "code",
      "metadata": {
        "id": "bQ0s10I7HkPZ",
        "colab_type": "code",
        "outputId": "c1d953a3-f6b4-4975-b92d-f4aec5170b39",
        "colab": {
          "base_uri": "https://localhost:8080/",
          "height": 296
        }
      },
      "source": [
        "#Gráfico demostrando a alteração dos valores de vizinhos, para encontrar o melhor valor.\n",
        "plt.plot(k_range, scores_list)\n",
        "plt.xlabel('Value of K for KNN')\n",
        "plt.ylabel('Testing Accuracy')"
      ],
      "execution_count": 0,
      "outputs": [
        {
          "output_type": "execute_result",
          "data": {
            "text/plain": [
              "Text(0, 0.5, 'Testing Accuracy')"
            ]
          },
          "metadata": {
            "tags": []
          },
          "execution_count": 15
        },
        {
          "output_type": "display_data",
          "data": {
            "image/png": "[encoded data removed]",
            "text/plain": [
              "<Figure size 432x288 with 1 Axes>"
            ]
          },
          "metadata": {
            "tags": []
          }
        }
      ]
    }
  ]
}