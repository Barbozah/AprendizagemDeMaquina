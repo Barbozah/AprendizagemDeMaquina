{
  "nbformat": 4,
  "nbformat_minor": 0,
  "metadata": {
    "colab": {
      "name": "NLTK Tutorial.ipynb",
      "provenance": [],
      "collapsed_sections": [],
      "authorship_tag": "ABX9TyOIVTKhxFmZzx8k08DcZrzq",
      "include_colab_link": true
    },
    "kernelspec": {
      "name": "python3",
      "display_name": "Python 3"
    }
  },
  "cells": [
    {
      "cell_type": "markdown",
      "metadata": {
        "id": "view-in-github",
        "colab_type": "text"
      },
      "source": [
        "<a href=\"https://colab.research.google.com/github/Barbozah/AprendizagemDeMaquina/blob/master/NLTK_Tutorial.ipynb\" target=\"_parent\"><img src=\"https://colab.research.google.com/assets/colab-badge.svg\" alt=\"Open In Colab\"/></a>"
      ]
    },
    {
      "cell_type": "code",
      "metadata": {
        "id": "P2gYKyj8fCHA",
        "colab_type": "code",
        "colab": {}
      },
      "source": [
        "import requests\n",
        "from lxml.html import fromstring\n",
        "import nltk\n",
        "from nltk.tokenize import word_tokenize, sent_tokenize\n",
        "from string import punctuation\n",
        "from nltk.probability import FreqDist\n",
        "from collections import defaultdict\n",
        "from heapq import nlargest"
      ],
      "execution_count": 0,
      "outputs": []
    },
    {
      "cell_type": "code",
      "metadata": {
        "id": "cx2ZGs7LqNLt",
        "colab_type": "code",
        "outputId": "796a3d0b-869b-4f30-abc8-5a576791c8c4",
        "colab": {
          "base_uri": "https://localhost:8080/",
          "height": 102
        }
      },
      "source": [
        "nltk.download('stopwords')\n",
        "nltk.download('punkt')"
      ],
      "execution_count": 0,
      "outputs": [
        {
          "output_type": "stream",
          "text": [
            "[nltk_data] Downloading package stopwords to /root/nltk_data...\n",
            "[nltk_data]   Package stopwords is already up-to-date!\n",
            "[nltk_data] Downloading package punkt to /root/nltk_data...\n",
            "[nltk_data]   Package punkt is already up-to-date!\n"
          ],
          "name": "stdout"
        },
        {
          "output_type": "execute_result",
          "data": {
            "text/plain": [
              "True"
            ]
          },
          "metadata": {
            "tags": []
          },
          "execution_count": 18
        }
      ]
    },
    {
      "cell_type": "code",
      "metadata": {
        "id": "uFR2sYqPf3bC",
        "colab_type": "code",
        "colab": {}
      },
      "source": [
        "root_url = 'https://www.diariodepernambuco.com.br/'\n",
        "page = requests.get(root_url)\n",
        "tree = fromstring(page.content)\n",
        "spotlight_url = tree.xpath('//*[@id=\"DestaquesTopo\"]/div/div[1]/div[1]/a/@href')[0]\n",
        "page = requests.get(spotlight_url)\n",
        "tree = fromstring(page.content)\n",
        "title = tree.xpath('//*[@class=\"news_heading\"]//h1/text()')\n",
        "content = tree.xpath('//*[@id=\"abanoticia\"]/div[2]/div/div[2]/div/text()')\n",
        "text = '\\n'.join(title + content)"
      ],
      "execution_count": 0,
      "outputs": []
    },
    {
      "cell_type": "code",
      "metadata": {
        "id": "_Mo1uVckfR2Z",
        "colab_type": "code",
        "colab": {}
      },
      "source": [
        "stopwords = set(nltk.corpus.stopwords.words('portuguese') + list(punctuation) + ['“', '”'])\n",
        "def tokenize(text):\n",
        "    sentences = sent_tokenize(text)\n",
        "    result = []\n",
        "    for sentence in sentences:\n",
        "        result += sentence.split('\\n')\n",
        "    return result\n",
        "sentences = tokenize(text)\n",
        "words = word_tokenize(text.lower())\n",
        "words_without_stopwords = [word for word in words if word not in stopwords]\n",
        "frequency = FreqDist(words_without_stopwords)\n",
        "considerable_sentences = defaultdict(int)"
      ],
      "execution_count": 0,
      "outputs": []
    },
    {
      "cell_type": "code",
      "metadata": {
        "id": "25ZhbTvjf4t8",
        "colab_type": "code",
        "outputId": "3b63f539-25d1-4711-f1e2-74eadb9cb9b6",
        "colab": {
          "base_uri": "https://localhost:8080/",
          "height": 289
        }
      },
      "source": [
        "bag = []\n",
        "for i, sentence in enumerate(sentences):\n",
        "    for word in word_tokenize(sentence.lower()):\n",
        "        if word in frequency:\n",
        "            bag.append(word)\n",
        "            considerable_sentences[i] += frequency[word]\n",
        "\n",
        "sliced = sorted(considerable_sentences.items(), key=lambda item: item[1], reverse=True)[:10]\n",
        "\n",
        "result = ''\n",
        "for index, freq in sliced:\n",
        "    result += f'\\tPalavra: {bag[index]}, Frequência: {freq}\\n'\n",
        "\n",
        "print(f'Título: \\n\\t{title[0]}\\n\\nPalavras mais importantes e suas frequências:\\n\\n{result}')"
      ],
      "execution_count": 0,
      "outputs": [
        {
          "output_type": "stream",
          "text": [
            "Título: \n",
            "\tSetor de serviços alavanca aumento dos postos de trabalho em Pernambuco\n",
            "\n",
            "Palavras mais importantes e suas frequências:\n",
            "\n",
            "\tPalavra: postos, Frequência: 474\n",
            "\tPalavra: vez, Frequência: 396\n",
            "\tPalavra: dezembro, Frequência: 384\n",
            "\tPalavra: onde, Frequência: 378\n",
            "\tPalavra: aumento, Frequência: 354\n",
            "\tPalavra: serviços, Frequência: 348\n",
            "\tPalavra: cadastro, Frequência: 336\n",
            "\tPalavra: 644.079, Frequência: 318\n",
            "\tPalavra: pernambuco, Frequência: 300\n",
            "\tPalavra: alavanca, Frequência: 282\n",
            "\n"
          ],
          "name": "stdout"
        }
      ]
    }
  ]
}