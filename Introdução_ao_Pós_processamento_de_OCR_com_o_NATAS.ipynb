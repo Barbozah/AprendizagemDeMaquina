{
  "nbformat": 4,
  "nbformat_minor": 0,
  "metadata": {
    "colab": {
      "name": "Introdução ao Pós-processamento de OCR com o NATAS.ipynb",
      "provenance": [],
      "collapsed_sections": [],
      "authorship_tag": "ABX9TyP2xGUK0w8iHUZ+X9B4Rt3N",
      "include_colab_link": true
    },
    "kernelspec": {
      "name": "python3",
      "display_name": "Python 3"
    }
  },
  "cells": [
    {
      "cell_type": "markdown",
      "metadata": {
        "id": "view-in-github",
        "colab_type": "text"
      },
      "source": [
        "<a href=\"https://colab.research.google.com/github/Barbozah/AprendizagemDeMaquina/blob/master/Introdu%C3%A7%C3%A3o_ao_P%C3%B3s_processamento_de_OCR_com_o_NATAS.ipynb\" target=\"_parent\"><img src=\"https://colab.research.google.com/assets/colab-badge.svg\" alt=\"Open In Colab\"/></a>"
      ]
    },
    {
      "cell_type": "markdown",
      "metadata": {
        "id": "osgP1FRmaTGI",
        "colab_type": "text"
      },
      "source": [
        "# Atividade"
      ]
    },
    {
      "cell_type": "code",
      "metadata": {
        "id": "vjyYEHNraf5R",
        "colab_type": "code",
        "colab": {}
      },
      "source": [
        "%%shell\n",
        "pip install natas \n",
        "python -m natas.download\n",
        "python -m spacy download pt"
      ],
      "execution_count": 0,
      "outputs": []
    },
    {
      "cell_type": "code",
      "metadata": {
        "id": "eF0VrJ7yauNC",
        "colab_type": "code",
        "colab": {}
      },
      "source": [
        "import natas\n",
        "import spacy\n",
        "nlp = spacy.load('pt')\n",
        "natas.set_spacy(nlp)"
      ],
      "execution_count": 0,
      "outputs": []
    },
    {
      "cell_type": "markdown",
      "metadata": {
        "id": "RbbVo6JCaPTk",
        "colab_type": "text"
      },
      "source": [
        "### Criar um novo dicionario de palavras utilizando o napas"
      ]
    },
    {
      "cell_type": "code",
      "metadata": {
        "id": "RyGQd_jgYrs3",
        "colab_type": "code",
        "colab": {}
      },
      "source": [
        "dicionario = set(['deletar', 'linkar'])"
      ],
      "execution_count": 0,
      "outputs": []
    },
    {
      "cell_type": "markdown",
      "metadata": {
        "id": "5IWzcS08aZ3X",
        "colab_type": "text"
      },
      "source": [
        "### Checar se nova palavra existe"
      ]
    },
    {
      "cell_type": "code",
      "metadata": {
        "id": "qDVomrh8ab9d",
        "colab_type": "code",
        "outputId": "159f2097-fa5a-47d6-af3e-72e07c0c0a23",
        "colab": {
          "base_uri": "https://localhost:8080/",
          "height": 51
        }
      },
      "source": [
        "print(natas.is_correctly_spelled('deletar'))\n",
        "print(natas.is_correctly_spelled('linkar'))"
      ],
      "execution_count": 0,
      "outputs": [
        {
          "output_type": "stream",
          "text": [
            "False\n",
            "False\n"
          ],
          "name": "stdout"
        }
      ]
    },
    {
      "cell_type": "markdown",
      "metadata": {
        "id": "lmRmSJJQadGa",
        "colab_type": "text"
      },
      "source": [
        "### Modificar o dicionario"
      ]
    },
    {
      "cell_type": "code",
      "metadata": {
        "id": "CK5ZTanBaeyg",
        "colab_type": "code",
        "outputId": "115cf0b1-8d58-40bd-9c7f-6a5c1b171292",
        "colab": {
          "base_uri": "https://localhost:8080/",
          "height": 51
        }
      },
      "source": [
        "print(natas.is_correctly_spelled('deletar', dictionary=dicionario))\n",
        "print(natas.is_correctly_spelled('linkar', dictionary=dicionario))"
      ],
      "execution_count": 0,
      "outputs": [
        {
          "output_type": "stream",
          "text": [
            "True\n",
            "True\n"
          ],
          "name": "stdout"
        }
      ]
    }
  ]
}